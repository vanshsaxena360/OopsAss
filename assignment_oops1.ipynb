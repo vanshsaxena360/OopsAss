{
 "cells": [
  {
   "cell_type": "code",
   "execution_count": 1,
   "id": "6de482f3-4aff-42fa-803e-89bec74334fd",
   "metadata": {},
   "outputs": [],
   "source": [
    "# Q1, Create a vehicle class with an init method having instance variables as name_of_vehicle, max_speed\n",
    "# and average_of_vehicle.\n",
    "\n",
    "class vehicle():\n",
    "    def __init__(self, name_of_vehicle, max_speed, average_of_vehicle):\n",
    "        self.name_of_vehicle = name_of_vehicle\n",
    "        self.max_speed = max_speed\n",
    "        self.average_of_vehicle =  average_of_vehicle\n",
    "        \n",
    "    def vehicles(self):\n",
    "        return self.name_of_vehicle, self.max_speed, self.average_of_vehicle"
   ]
  },
  {
   "cell_type": "code",
   "execution_count": 3,
   "id": "2dfc6621-66c4-4333-9785-426c69315ea1",
   "metadata": {},
   "outputs": [],
   "source": [
    "vehicle = vehicle(\"Bike\",120,60)"
   ]
  },
  {
   "cell_type": "code",
   "execution_count": 7,
   "id": "ff294bcd-83f1-4865-8ec4-e04cf68920f1",
   "metadata": {},
   "outputs": [
    {
     "data": {
      "text/plain": [
       "('Bike', 120, 60)"
      ]
     },
     "execution_count": 7,
     "metadata": {},
     "output_type": "execute_result"
    }
   ],
   "source": [
    "vehicle.vehicles()"
   ]
  },
  {
   "cell_type": "code",
   "execution_count": 41,
   "id": "e4da32de-75c7-4912-be39-e9d6c2fc271a",
   "metadata": {},
   "outputs": [],
   "source": [
    "# Q2. Create a child class car from the vehicle class created in Que 1, which will inherit the vehicle class.\n",
    "# Create a method named seating_capacity which takes capacity as an argument and returns the name of\n",
    "# the vehicle and its seating capacity.\n",
    "\n",
    "class vehicle():\n",
    "    def seating_capacity(self, name_of_vehicle, capacity):\n",
    "        self.name_of_vehicle = name_of_vehicle\n",
    "        self.capacity = capacity\n",
    "        return f\"Name of the Vehicle is {self.name_of_vehicle} , and capicity is {self.capacity}\"\n",
    "\n",
    "class car(vehicle):\n",
    "    pass"
   ]
  },
  {
   "cell_type": "code",
   "execution_count": 42,
   "id": "44f876d3-d2f5-4345-a417-ef952133d829",
   "metadata": {},
   "outputs": [],
   "source": [
    "car = car()"
   ]
  },
  {
   "cell_type": "code",
   "execution_count": 43,
   "id": "7a520506-aa21-4535-9f61-65e78ba33502",
   "metadata": {},
   "outputs": [
    {
     "data": {
      "text/plain": [
       "'Name of the Vehicle is Tata , and capicity is 30'"
      ]
     },
     "execution_count": 43,
     "metadata": {},
     "output_type": "execute_result"
    }
   ],
   "source": [
    "car.seating_capacity(\"Tata\",30)"
   ]
  },
  {
   "cell_type": "code",
   "execution_count": 50,
   "id": "6a5999b1-af33-4663-9c06-1875380905e8",
   "metadata": {},
   "outputs": [],
   "source": [
    "# Q3. What is multiple inheritance? Write a python code to demonstrate multiple inheritance.\n",
    "\n",
    "# multiple inheritance: In multiple inheritance, a class can inherit from more than one superclass, \n",
    "#   enabling it to access and reuse the members (methods and attributes) of all its parent classes.\n",
    "\n",
    "class class1:\n",
    "    def test_class1(self):\n",
    "        return \"This is the function1 from class1\"\n",
    "class class2:\n",
    "    def test_class2(self):\n",
    "        return \"This is the function2 from class2\"\n",
    "class class3(class1, class2):\n",
    "    pass"
   ]
  },
  {
   "cell_type": "code",
   "execution_count": 51,
   "id": "f16a2783-93ba-4988-99ad-4f429b399af4",
   "metadata": {},
   "outputs": [],
   "source": [
    "obj_class3 = class3()"
   ]
  },
  {
   "cell_type": "code",
   "execution_count": 53,
   "id": "79031c12-8140-4ba7-aad7-c73353ee87fd",
   "metadata": {},
   "outputs": [
    {
     "data": {
      "text/plain": [
       "'This is the function1 from class1'"
      ]
     },
     "execution_count": 53,
     "metadata": {},
     "output_type": "execute_result"
    }
   ],
   "source": [
    "obj_class3.test_class1()"
   ]
  },
  {
   "cell_type": "code",
   "execution_count": 54,
   "id": "301fc2c1-5e8c-4ead-b8b7-ede70c64bbee",
   "metadata": {},
   "outputs": [
    {
     "data": {
      "text/plain": [
       "'This is the function2 from class2'"
      ]
     },
     "execution_count": 54,
     "metadata": {},
     "output_type": "execute_result"
    }
   ],
   "source": [
    "obj_class3.test_class2()"
   ]
  },
  {
   "cell_type": "code",
   "execution_count": 62,
   "id": "22fcd543-d6ae-4ab0-9b16-c31b4496ad91",
   "metadata": {},
   "outputs": [],
   "source": [
    "# Q4. What are getter and setter in python? Create a class and create a getter and a setter method in this class.\n",
    "#  getters and setters are methods that are used to access and modify the values of private instance \n",
    "#  variables of a class. \n",
    "\n",
    "class bike:\n",
    "    def __init__(self, model, speed):\n",
    "        self.__model = model\n",
    "        self.__speed = 0\n",
    "        \n",
    "    def set_speed(self,speed):\n",
    "        self.__speed =0 if speed <0 else speed\n",
    "        \n",
    "    def get_speed(self):\n",
    "        return self.__speed"
   ]
  },
  {
   "cell_type": "code",
   "execution_count": 63,
   "id": "46cf52d1-654a-4781-943b-66d2d293d5eb",
   "metadata": {},
   "outputs": [],
   "source": [
    "b = bike(\"Hero\",80)"
   ]
  },
  {
   "cell_type": "code",
   "execution_count": 66,
   "id": "ca23346c-b859-4601-a81a-9b3f54d1b09c",
   "metadata": {},
   "outputs": [
    {
     "data": {
      "text/plain": [
       "0"
      ]
     },
     "execution_count": 66,
     "metadata": {},
     "output_type": "execute_result"
    }
   ],
   "source": [
    "b._bike__speed"
   ]
  },
  {
   "cell_type": "code",
   "execution_count": 67,
   "id": "ec215489-efa8-4554-85c4-e79fa5ced2d3",
   "metadata": {},
   "outputs": [],
   "source": [
    "b.set_speed(80)"
   ]
  },
  {
   "cell_type": "code",
   "execution_count": 68,
   "id": "5ef0e023-f702-4ef4-aaa7-eff393db2c5d",
   "metadata": {},
   "outputs": [
    {
     "data": {
      "text/plain": [
       "80"
      ]
     },
     "execution_count": 68,
     "metadata": {},
     "output_type": "execute_result"
    }
   ],
   "source": [
    "b.get_speed()"
   ]
  },
  {
   "cell_type": "code",
   "execution_count": 74,
   "id": "36c8b3eb-06f7-4f13-93e7-44b1dbc5c43d",
   "metadata": {},
   "outputs": [],
   "source": [
    "# Q5.What is method overriding in python? Write a python code to demonstrate method overriding.\n",
    "# If a class has multiple methods having same name but different in parameters, it is known as Method Overloading.\n",
    "\n",
    "class shape:\n",
    "    def area(self):\n",
    "        return 0\n",
    "    \n",
    "class rectangle(shape):\n",
    "    def __init__(self, width, height):\n",
    "        self.width = width\n",
    "        self.height = height\n",
    "        \n",
    "    def area(self):\n",
    "        return self.width*self.height"
   ]
  },
  {
   "cell_type": "code",
   "execution_count": 75,
   "id": "80120827-39da-4e5f-80e7-81a960dba018",
   "metadata": {},
   "outputs": [],
   "source": [
    "s = shape()\n",
    "r = rectangle(5, 3)"
   ]
  },
  {
   "cell_type": "code",
   "execution_count": 76,
   "id": "30fb1f89-2756-4347-a9ad-146b6a93321e",
   "metadata": {},
   "outputs": [
    {
     "data": {
      "text/plain": [
       "15"
      ]
     },
     "execution_count": 76,
     "metadata": {},
     "output_type": "execute_result"
    }
   ],
   "source": [
    "s.area()      \n",
    "r.area()  "
   ]
  },
  {
   "cell_type": "code",
   "execution_count": null,
   "id": "83a7aae2-085d-4217-ac15-6bfa0eff56cc",
   "metadata": {},
   "outputs": [],
   "source": []
  }
 ],
 "metadata": {
  "kernelspec": {
   "display_name": "Python 3 (ipykernel)",
   "language": "python",
   "name": "python3"
  },
  "language_info": {
   "codemirror_mode": {
    "name": "ipython",
    "version": 3
   },
   "file_extension": ".py",
   "mimetype": "text/x-python",
   "name": "python",
   "nbconvert_exporter": "python",
   "pygments_lexer": "ipython3",
   "version": "3.10.8"
  }
 },
 "nbformat": 4,
 "nbformat_minor": 5
}
